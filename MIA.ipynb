{
  "nbformat": 4,
  "nbformat_minor": 0,
  "metadata": {
    "colab": {
      "name": "MIA.ipynb",
      "provenance": [],
      "authorship_tag": "ABX9TyNvlUkwy1rpco5sputsoSNv",
      "include_colab_link": true
    },
    "kernelspec": {
      "name": "python3",
      "display_name": "Python 3"
    },
    "language_info": {
      "name": "python"
    }
  },
  "cells": [
    {
      "cell_type": "markdown",
      "metadata": {
        "id": "view-in-github",
        "colab_type": "text"
      },
      "source": [
        "<a href=\"https://colab.research.google.com/github/CMC2002/MIA/blob/main/MIA.ipynb\" target=\"_parent\"><img src=\"https://colab.research.google.com/assets/colab-badge.svg\" alt=\"Open In Colab\"/></a>"
      ]
    },
    {
      "cell_type": "code",
      "execution_count": 1,
      "metadata": {
        "colab": {
          "base_uri": "https://localhost:8080/"
        },
        "id": "-ToefCpPNBE4",
        "outputId": "e272906c-666b-46ec-c3c8-a83ada68ffad"
      },
      "outputs": [
        {
          "output_type": "stream",
          "name": "stdout",
          "text": [
            "Cloning into 'end2end-all-conv'...\n",
            "remote: Enumerating objects: 1428, done.\u001b[K\n",
            "remote: Counting objects: 100% (12/12), done.\u001b[K\n",
            "remote: Compressing objects: 100% (12/12), done.\u001b[K\n",
            "remote: Total 1428 (delta 5), reused 1 (delta 0), pack-reused 1416\u001b[K\n",
            "Receiving objects: 100% (1428/1428), 7.86 MiB | 24.84 MiB/s, done.\n",
            "Resolving deltas: 100% (972/972), done.\n"
          ]
        }
      ],
      "source": [
        "!git clone https://github.com/lishen/end2end-all-conv.git"
      ]
    }
  ]
}